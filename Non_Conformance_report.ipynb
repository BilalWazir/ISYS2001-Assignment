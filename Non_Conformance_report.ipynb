{
  "nbformat": 4,
  "nbformat_minor": 0,
  "metadata": {
    "colab": {
      "name": "Non Conformance report.ipynb",
      "provenance": [],
      "authorship_tag": "ABX9TyPC/SgYChgkFdsVXCSWItlP",
      "include_colab_link": true
    },
    "kernelspec": {
      "name": "python3",
      "display_name": "Python 3"
    },
    "language_info": {
      "name": "python"
    }
  },
  "cells": [
    {
      "cell_type": "markdown",
      "metadata": {
        "id": "view-in-github",
        "colab_type": "text"
      },
      "source": [
        "<a href=\"https://colab.research.google.com/github/BilalWazir/ISYS2001-Assignment/blob/main/Non_Conformance_report.ipynb\" target=\"_parent\"><img src=\"https://colab.research.google.com/assets/colab-badge.svg\" alt=\"Open In Colab\"/></a>"
      ]
    },
    {
      "cell_type": "markdown",
      "source": [
        "#Non Conformance report for Business Report - Enron\n",
        "\n",
        "In the assignment for the Business Report for Enron, i had few challenges along the way. one of my main challenge was that i couldnt get to filter the date range between 1996 to 2004. i had planned to do so and tried running few codes but none of those worked for me. my understanding of DATETIME isnt the best at the moment so i couldnt code that in\n",
        "\n",
        "i tried to add references tot he main Report but my Colab refused to allow me to copy paste links and etc. there fore i had created a whole other document in the repository containing those links. i planned on getting it all done properly but this issue i tried few ways with colab but did not work.\n",
        "\n",
        "My report is lacking a bit of content and structure due to it being a bit rushed, i was unwell for a period of time with heavy fever and stomach aches so i couldnt tend to it properly. i had it allplanned out to get scholarly refeences and planned it all tobe properly done but i had it rushed unfortunately. i definitely feel like i couldve added so much more but the constrain of time due to health had caused this to happen to me unfortunately.\n",
        "\n",
        "i will strive to do better in future and aim to understand my codes better the more i get into the topics.\n",
        "\n"
      ],
      "metadata": {
        "id": "Q4R1mtKuu3gy"
      }
    }
  ]
}